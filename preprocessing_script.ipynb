{
 "cells": [
  {
   "cell_type": "code",
   "execution_count": 1,
   "id": "0056e5e4",
   "metadata": {},
   "outputs": [],
   "source": [
    "import glob\n",
    "from PIL import Image\n",
    "images = glob.glob(r\"C:/Users/leszm/Desktop/dir/*.jpg\")\n",
    "images2 = glob.glob(r\"C:/Users/leszm/Desktop/dir/d*.png\")\n",
    "image_no = 1\n",
    "for image in images:\n",
    "    with open(image,\"rb\") as file:\n",
    "        img = Image.open(file)\n",
    "        imgResult = img.resize((32,32), resample = Image.BILINEAR).convert('RGB')\n",
    "        name = \"C:/Users/leszm/Desktop/new44/datasl1/im\" + str(image_no) + \".jpg\"\n",
    "        imgResult.save(name, 'JPEG')\n",
    "        image_no += 1\n",
    "        print(\"All good\")\n",
    "for image in images2:\n",
    "    with open(image,\"rb\") as file:\n",
    "        img = Image.open(file)\n",
    "        imgResult = img.resize((32,32), resample = Image.BILINEAR).convert('RGB')\n",
    "        name = \"C:/Users/leszm/Desktop/new44/datasl1/im\" + str(image_no) + \".jpg\"\n",
    "        imgResult.save(name, 'JPEG')\n",
    "        image_no += 1\n",
    "        print(\"All good\")    \n"
   ]
  }
 ],
 "metadata": {
  "kernelspec": {
   "display_name": "Python [conda env:pytorch]",
   "language": "python",
   "name": "conda-env-pytorch-py"
  },
  "language_info": {
   "codemirror_mode": {
    "name": "ipython",
    "version": 3
   },
   "file_extension": ".py",
   "mimetype": "text/x-python",
   "name": "python",
   "nbconvert_exporter": "python",
   "pygments_lexer": "ipython3",
   "version": "3.9.7"
  }
 },
 "nbformat": 4,
 "nbformat_minor": 5
}
